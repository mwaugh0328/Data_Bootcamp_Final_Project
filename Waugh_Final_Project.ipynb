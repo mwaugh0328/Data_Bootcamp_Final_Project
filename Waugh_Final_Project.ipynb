{
 "cells": [
  {
   "cell_type": "markdown",
   "metadata": {},
   "source": [
    "# Data Bootcamp Final Project: Rural-Urban Inequality in Tanzania \n",
    "<br>\n",
    "<br>\n",
    "\n",
    "<div class=\"inline-block\"> <img src=\"https://upload.wikimedia.org/wikipedia/commons/thumb/3/38/Flag_of_Tanzania.svg/1200px-Flag_of_Tanzania.svg.png\" style=\"width: 200px;\"/> </div> \n",
    "\n",
    "**Author: Michael Waugh**\n",
    "\n",
    "**Email: [mwaugh@stern.nyu.edu](mwaugh@stern.nyu.edu)**"
   ]
  },
  {
   "cell_type": "markdown",
   "metadata": {},
   "source": [
    "Poor countries have large masses of their population in rural, agriculture areas. Within these areas, [they earn and produce less relative to urban, non-agriculture areas](http://www.waugheconomics.com/uploads/2/2/5/6/22563786/apg.pdf). This observation begs the question: if people moved from rural to urban areas, would they reap gains in living standards. Or are the observed differences in livings standars simply and artifact of, say, differences in education or (unobserved) ability. This project uses the Tanzania LSMS dataset to document and understand rural-urban inequality.\n",
    "\n",
    "This project will explore these issues in several steps:\n",
    "1. I'll describe the data and its source \n",
    "2. Discuss the tools and packages that I will used to anaylze the data.\n",
    "3. Primary Analysis\n",
    "4. Extension to studying those that move."
   ]
  },
  {
   "cell_type": "markdown",
   "metadata": {},
   "source": [
    "## Data Report\n",
    "\n",
    "The key elements of the data are from the [LSMS surveys](http://go.worldbank.org/IPLXWMCNJ0) from the [World Bank](http://www.worldbank.org/). The LSMS datasets are designed to measure living standards in countries where standard measurment apaparatuses (e.g. like the Census in the US) are not present. Access to the Tanzania dataset is free, but you must apply for access. The World Bank's website for the Tanzania LSMS dataset is here:\n",
    "\n",
    "http://go.worldbank.org/EJMAC1YDY0\n",
    "\n",
    "All data is stored in the `.dta` stata format. This is not a problem since we can use `pd.read_stata` command. There are many modules (sheets of data with different subject areas). Within each module there are the household responses and then a houshold id that can be used to link the responses across datasheets. I'm going to focus on only a couple of the datasets. The are discussed below:\n",
    "- `TZY1.HH.Consumption.dta` and `TZY2.HH.Consumption.dta` is the consumption module in year one in 2008-2009 and the year two in 2011-2012 (?). The key element is that there is a \"consumption aggregate\" that reports aggregate expenditures by households. It also reports [adlut equivalents](https://en.wikipedia.org/wiki/Equivalisation), then per capita consumption within the houshold can be computed as the ratio of expenditures relative to adult equivalents. **This is the main variable of interest.** \n",
    "- Also within these data is the classification of households by if they live in a rural or urban area. This classification will be of interst as well as we examive differences in consumption by classification. \n",
    "- `HH.Geovariables_Y2.dta` is the geographic module that contains the coordinates of the household within year two. This will be used to map households locations and outcomes associated with those households.\n",
    "- There is also an education module. This will be used to explore the role of differences in education or \"human capital\" in explaining rural-urban gaps in earnings. \n",
    "\n",
    "**Data Disclaimer:** Because this data is restricted access, I will pull the data directly from that saved on my local computer."
   ]
  },
  {
   "cell_type": "markdown",
   "metadata": {},
   "source": [
    "## My Packages\n",
    "\n",
    "In the analysis below, I'm goint to use the following packages:\n",
    "- `display` package which will display certain output in a nice way\n",
    "- `Pandas` package which will be my core tool to import, manipulate, merge, and analyze the data\n",
    "- `Matplotlib` package which will assiste me in ploting my results\n",
    "- `numpy` which will allow me to perform certain mathimatical operations and transformations of the data (e.g. log of stuff). \n",
    "- `Basemap` which will allow me to map certain featurs of the data.\n",
    "- `statsmodels` will allow me to perform regresion analysis on my data."
   ]
  },
  {
   "cell_type": "code",
   "execution_count": 110,
   "metadata": {},
   "outputs": [
    {
     "name": "stderr",
     "output_type": "stream",
     "text": [
      "C:\\Program Files\\Anaconda3\\lib\\site-packages\\statsmodels\\compat\\pandas.py:56: FutureWarning: The pandas.core.datetools module is deprecated and will be removed in a future version. Please use the pandas.tseries module instead.\n",
      "  from pandas.core import datetools\n"
     ]
    }
   ],
   "source": [
    "from IPython.display import display, Image # Displays things nicely\n",
    "import pandas as pd # Key tool \n",
    "import matplotlib.pyplot as plt # Helps plot\n",
    "import numpy as np # Numerical operations\n",
    "from mpl_toolkits.basemap import Basemap # Basemap\n",
    "\n",
    "import statsmodels.api as sm\n",
    "import statsmodels.formula.api as smf"
   ]
  },
  {
   "cell_type": "markdown",
   "metadata": {},
   "source": [
    "## Organize the Data\n",
    "\n",
    "Below I walk through the steps to organize the data. I proceed by reading in the datasets, but only pull in the columns that I care about. I do this for the two years of consumption data, the geographic variables, and then the education data. I then merge the datasets together.\n",
    "\n",
    "Below are the paths to the files on my local computers:"
   ]
  },
  {
   "cell_type": "code",
   "execution_count": 11,
   "metadata": {
    "collapsed": true
   },
   "outputs": [],
   "source": [
    "path_laptop = \"C://Users//mwaugh//Dropbox//Panel Tracking Surveys//Tanzania//Raw Data (2008-2009 and 2010-2011)\"\n",
    "path_desktop = \"C://Users//mwaugh.NYC-STERN//Dropbox//Panel Tracking Surveys//Tanzania\\Raw Data (2008-2009 and 2010-2011)\""
   ]
  },
  {
   "cell_type": "markdown",
   "metadata": {},
   "source": [
    "#### Bring in Year 1 Consumpiton Data"
   ]
  },
  {
   "cell_type": "code",
   "execution_count": 12,
   "metadata": {
    "collapsed": true
   },
   "outputs": [],
   "source": [
    "file = path_desktop + \"//TZY1.HH.Consumption.dta\"\n",
    "\n",
    "myvars = [\"hhid\", \"urban\", \"expmR\", \"adulteq\", \"hhsize\", \"hhweight\", \"region\"]\n",
    "\n",
    "tanz_y1 = pd.read_stata(file, columns = myvars)\n",
    "\n",
    "tanz_y1.columns\n",
    "\n",
    "new_name = []\n",
    "\n",
    "for name in myvars:\n",
    "    new_name.append(name + \"_y1\")\n",
    "    \n",
    "tanz_y1.columns = new_name"
   ]
  },
  {
   "cell_type": "markdown",
   "metadata": {},
   "source": [
    "Then I want to create the consumption per adult equivalent measure and then lets look at the data."
   ]
  },
  {
   "cell_type": "code",
   "execution_count": 13,
   "metadata": {},
   "outputs": [
    {
     "data": {
      "text/html": [
       "<div>\n",
       "<style scoped>\n",
       "    .dataframe tbody tr th:only-of-type {\n",
       "        vertical-align: middle;\n",
       "    }\n",
       "\n",
       "    .dataframe tbody tr th {\n",
       "        vertical-align: top;\n",
       "    }\n",
       "\n",
       "    .dataframe thead th {\n",
       "        text-align: right;\n",
       "    }\n",
       "</style>\n",
       "<table border=\"1\" class=\"dataframe\">\n",
       "  <thead>\n",
       "    <tr style=\"text-align: right;\">\n",
       "      <th></th>\n",
       "      <th>hhid_y1</th>\n",
       "      <th>urban_y1</th>\n",
       "      <th>expmR_y1</th>\n",
       "      <th>adulteq_y1</th>\n",
       "      <th>hhsize_y1</th>\n",
       "      <th>hhweight_y1</th>\n",
       "      <th>region_y1</th>\n",
       "      <th>cons_y1</th>\n",
       "    </tr>\n",
       "  </thead>\n",
       "  <tbody>\n",
       "    <tr>\n",
       "      <th>0</th>\n",
       "      <td>01010140020171</td>\n",
       "      <td>Rural</td>\n",
       "      <td>1.730037e+06</td>\n",
       "      <td>4.52</td>\n",
       "      <td>5</td>\n",
       "      <td>5048.136719</td>\n",
       "      <td>Dodoma</td>\n",
       "      <td>382751.572895</td>\n",
       "    </tr>\n",
       "    <tr>\n",
       "      <th>1</th>\n",
       "      <td>01010140020284</td>\n",
       "      <td>Rural</td>\n",
       "      <td>4.539407e+05</td>\n",
       "      <td>2.28</td>\n",
       "      <td>3</td>\n",
       "      <td>5048.136719</td>\n",
       "      <td>Dodoma</td>\n",
       "      <td>199096.806365</td>\n",
       "    </tr>\n",
       "    <tr>\n",
       "      <th>2</th>\n",
       "      <td>01010140020297</td>\n",
       "      <td>Rural</td>\n",
       "      <td>7.136122e+06</td>\n",
       "      <td>7.96</td>\n",
       "      <td>10</td>\n",
       "      <td>5048.136719</td>\n",
       "      <td>Dodoma</td>\n",
       "      <td>896497.671583</td>\n",
       "    </tr>\n",
       "    <tr>\n",
       "      <th>3</th>\n",
       "      <td>01010140020409</td>\n",
       "      <td>Rural</td>\n",
       "      <td>1.523027e+06</td>\n",
       "      <td>2.84</td>\n",
       "      <td>4</td>\n",
       "      <td>5048.136719</td>\n",
       "      <td>Dodoma</td>\n",
       "      <td>536277.156015</td>\n",
       "    </tr>\n",
       "    <tr>\n",
       "      <th>4</th>\n",
       "      <td>01010140020471</td>\n",
       "      <td>Rural</td>\n",
       "      <td>1.416735e+06</td>\n",
       "      <td>3.52</td>\n",
       "      <td>5</td>\n",
       "      <td>5048.136719</td>\n",
       "      <td>Dodoma</td>\n",
       "      <td>402481.539679</td>\n",
       "    </tr>\n",
       "  </tbody>\n",
       "</table>\n",
       "</div>"
      ],
      "text/plain": [
       "          hhid_y1 urban_y1      expmR_y1  adulteq_y1  hhsize_y1  hhweight_y1  \\\n",
       "0  01010140020171    Rural  1.730037e+06        4.52          5  5048.136719   \n",
       "1  01010140020284    Rural  4.539407e+05        2.28          3  5048.136719   \n",
       "2  01010140020297    Rural  7.136122e+06        7.96         10  5048.136719   \n",
       "3  01010140020409    Rural  1.523027e+06        2.84          4  5048.136719   \n",
       "4  01010140020471    Rural  1.416735e+06        3.52          5  5048.136719   \n",
       "\n",
       "  region_y1        cons_y1  \n",
       "0    Dodoma  382751.572895  \n",
       "1    Dodoma  199096.806365  \n",
       "2    Dodoma  896497.671583  \n",
       "3    Dodoma  536277.156015  \n",
       "4    Dodoma  402481.539679  "
      ]
     },
     "metadata": {},
     "output_type": "display_data"
    }
   ],
   "source": [
    "tanz_y1[\"cons_y1\"] = tanz_y1[\"expmR_y1\"] / tanz_y1[\"adulteq_y1\"]\n",
    "\n",
    "display(tanz_y1.head(5))"
   ]
  },
  {
   "cell_type": "markdown",
   "metadata": {},
   "source": [
    "#### Bring in Year 2 Consumption Data"
   ]
  },
  {
   "cell_type": "code",
   "execution_count": 14,
   "metadata": {
    "collapsed": true
   },
   "outputs": [],
   "source": [
    "file = path_desktop + \"//TZY2.HH.Consumption.dta\"\n",
    "\n",
    "myvars = [\"y2_hhid\", \"hhid_2008\", \"urban\", \"expmR\", \"adulteq\", \"hhsize\", \"hhweight\", \"region\"]\n",
    "\n",
    "tanz_y2 = pd.read_stata(file, columns = myvars)\n",
    "\n",
    "new_name = []\n",
    "\n",
    "for name in myvars:\n",
    "    new_name.append(name + \"_y2\")\n",
    "    \n",
    "tanz_y2.columns = new_name\n"
   ]
  },
  {
   "cell_type": "markdown",
   "metadata": {},
   "source": [
    "Then compute consumption per adult equivalent as well for year 2."
   ]
  },
  {
   "cell_type": "code",
   "execution_count": 15,
   "metadata": {
    "scrolled": true
   },
   "outputs": [
    {
     "data": {
      "text/html": [
       "<div>\n",
       "<style scoped>\n",
       "    .dataframe tbody tr th:only-of-type {\n",
       "        vertical-align: middle;\n",
       "    }\n",
       "\n",
       "    .dataframe tbody tr th {\n",
       "        vertical-align: top;\n",
       "    }\n",
       "\n",
       "    .dataframe thead th {\n",
       "        text-align: right;\n",
       "    }\n",
       "</style>\n",
       "<table border=\"1\" class=\"dataframe\">\n",
       "  <thead>\n",
       "    <tr style=\"text-align: right;\">\n",
       "      <th></th>\n",
       "      <th>y2_hhid_y2</th>\n",
       "      <th>hhid_2008_y2</th>\n",
       "      <th>urban_y2</th>\n",
       "      <th>expmR_y2</th>\n",
       "      <th>adulteq_y2</th>\n",
       "      <th>hhsize_y2</th>\n",
       "      <th>hhweight_y2</th>\n",
       "      <th>region_y2</th>\n",
       "      <th>cons_y2</th>\n",
       "    </tr>\n",
       "  </thead>\n",
       "  <tbody>\n",
       "    <tr>\n",
       "      <th>0</th>\n",
       "      <td>0101014002017101</td>\n",
       "      <td>01010140020171</td>\n",
       "      <td>Rural</td>\n",
       "      <td>2453002.750</td>\n",
       "      <td>4.24</td>\n",
       "      <td>5</td>\n",
       "      <td>5152.955078</td>\n",
       "      <td>Dodoma</td>\n",
       "      <td>578538.383133</td>\n",
       "    </tr>\n",
       "    <tr>\n",
       "      <th>1</th>\n",
       "      <td>0101014002028401</td>\n",
       "      <td>01010140020284</td>\n",
       "      <td>Rural</td>\n",
       "      <td>1364008.375</td>\n",
       "      <td>2.76</td>\n",
       "      <td>4</td>\n",
       "      <td>5212.386719</td>\n",
       "      <td>Dodoma</td>\n",
       "      <td>494205.934679</td>\n",
       "    </tr>\n",
       "    <tr>\n",
       "      <th>2</th>\n",
       "      <td>0101014002029701</td>\n",
       "      <td>01010140020297</td>\n",
       "      <td>Rural</td>\n",
       "      <td>6136596.000</td>\n",
       "      <td>8.12</td>\n",
       "      <td>10</td>\n",
       "      <td>2564.016113</td>\n",
       "      <td>Dodoma</td>\n",
       "      <td>755738.420428</td>\n",
       "    </tr>\n",
       "    <tr>\n",
       "      <th>3</th>\n",
       "      <td>0101014002029704</td>\n",
       "      <td>01010140020297</td>\n",
       "      <td>Urban</td>\n",
       "      <td>3419913.000</td>\n",
       "      <td>6.36</td>\n",
       "      <td>8</td>\n",
       "      <td>3052.347412</td>\n",
       "      <td>Dar es Salaam</td>\n",
       "      <td>537722.171122</td>\n",
       "    </tr>\n",
       "    <tr>\n",
       "      <th>4</th>\n",
       "      <td>0101014002040901</td>\n",
       "      <td>01010140020409</td>\n",
       "      <td>Rural</td>\n",
       "      <td>1228936.250</td>\n",
       "      <td>4.16</td>\n",
       "      <td>6</td>\n",
       "      <td>5152.955078</td>\n",
       "      <td>Dodoma</td>\n",
       "      <td>295417.370159</td>\n",
       "    </tr>\n",
       "  </tbody>\n",
       "</table>\n",
       "</div>"
      ],
      "text/plain": [
       "         y2_hhid_y2    hhid_2008_y2 urban_y2     expmR_y2  adulteq_y2  \\\n",
       "0  0101014002017101  01010140020171    Rural  2453002.750        4.24   \n",
       "1  0101014002028401  01010140020284    Rural  1364008.375        2.76   \n",
       "2  0101014002029701  01010140020297    Rural  6136596.000        8.12   \n",
       "3  0101014002029704  01010140020297    Urban  3419913.000        6.36   \n",
       "4  0101014002040901  01010140020409    Rural  1228936.250        4.16   \n",
       "\n",
       "   hhsize_y2  hhweight_y2      region_y2        cons_y2  \n",
       "0          5  5152.955078         Dodoma  578538.383133  \n",
       "1          4  5212.386719         Dodoma  494205.934679  \n",
       "2         10  2564.016113         Dodoma  755738.420428  \n",
       "3          8  3052.347412  Dar es Salaam  537722.171122  \n",
       "4          6  5152.955078         Dodoma  295417.370159  "
      ]
     },
     "metadata": {},
     "output_type": "display_data"
    }
   ],
   "source": [
    "tanz_y2[\"cons_y2\"] = tanz_y2[\"expmR_y2\"] / tanz_y2[\"adulteq_y2\"]\n",
    "\n",
    "display(tanz_y2.head(5))"
   ]
  },
  {
   "cell_type": "markdown",
   "metadata": {},
   "source": [
    "Before we merge, lets look at the shape of each file so we completely understand what is going on."
   ]
  },
  {
   "cell_type": "code",
   "execution_count": 16,
   "metadata": {},
   "outputs": [
    {
     "name": "stdout",
     "output_type": "stream",
     "text": [
      "(3265, 8)\n",
      "(3846, 9)\n"
     ]
    }
   ],
   "source": [
    "print(tanz_y1.shape)\n",
    "print(tanz_y2.shape)"
   ]
  },
  {
   "cell_type": "markdown",
   "metadata": {},
   "source": [
    "**Two observations:**\n",
    "\n",
    "- So the number of columns is different, this is because year two a 2008 household id and then a new id for 2012; hence the additional column.\n",
    "- The number of rows is different. I suspect that the reason is that some housholds \"broke up\" in between the time periods. So in 2012, they are represented as a new additional houshold. \n",
    "\n",
    "One way to get a better understanding of this point is to look at how many unique 2008 household id's there are in the year two data set:"
   ]
  },
  {
   "cell_type": "code",
   "execution_count": 17,
   "metadata": {},
   "outputs": [
    {
     "data": {
      "text/plain": [
       "(3166,)"
      ]
     },
     "metadata": {},
     "output_type": "display_data"
    }
   ],
   "source": [
    "display(tanz_y2.hhid_2008_y2.unique().shape)"
   ]
  },
  {
   "cell_type": "markdown",
   "metadata": {},
   "source": [
    "This is a bit surprising. What it looks like is two things going on. Some households are not connected across the sample; this may because they are unable to be found when conducting the year two data set, refused to participate, etc. Then there is the fact that year two has about 400 extra housholds why? This is an open quesiton.\n",
    "\n",
    "#### Merge Year 1 and Year 2 \n",
    "\n",
    "Now lets merge the datasets together on the 2008 hosehold id."
   ]
  },
  {
   "cell_type": "code",
   "execution_count": 18,
   "metadata": {},
   "outputs": [
    {
     "data": {
      "text/html": [
       "<div>\n",
       "<style scoped>\n",
       "    .dataframe tbody tr th:only-of-type {\n",
       "        vertical-align: middle;\n",
       "    }\n",
       "\n",
       "    .dataframe tbody tr th {\n",
       "        vertical-align: top;\n",
       "    }\n",
       "\n",
       "    .dataframe thead th {\n",
       "        text-align: right;\n",
       "    }\n",
       "</style>\n",
       "<table border=\"1\" class=\"dataframe\">\n",
       "  <thead>\n",
       "    <tr style=\"text-align: right;\">\n",
       "      <th></th>\n",
       "      <th>hhid_y1</th>\n",
       "      <th>urban_y1</th>\n",
       "      <th>expmR_y1</th>\n",
       "      <th>adulteq_y1</th>\n",
       "      <th>hhsize_y1</th>\n",
       "      <th>hhweight_y1</th>\n",
       "      <th>region_y1</th>\n",
       "      <th>cons_y1</th>\n",
       "      <th>y2_hhid_y2</th>\n",
       "      <th>hhid_2008_y2</th>\n",
       "      <th>urban_y2</th>\n",
       "      <th>expmR_y2</th>\n",
       "      <th>adulteq_y2</th>\n",
       "      <th>hhsize_y2</th>\n",
       "      <th>hhweight_y2</th>\n",
       "      <th>region_y2</th>\n",
       "      <th>cons_y2</th>\n",
       "      <th>_merge</th>\n",
       "    </tr>\n",
       "  </thead>\n",
       "  <tbody>\n",
       "    <tr>\n",
       "      <th>0</th>\n",
       "      <td>01010140020171</td>\n",
       "      <td>Rural</td>\n",
       "      <td>1.730037e+06</td>\n",
       "      <td>4.52</td>\n",
       "      <td>5</td>\n",
       "      <td>5048.136719</td>\n",
       "      <td>Dodoma</td>\n",
       "      <td>382751.572895</td>\n",
       "      <td>0101014002017101</td>\n",
       "      <td>01010140020171</td>\n",
       "      <td>Rural</td>\n",
       "      <td>2453002.750</td>\n",
       "      <td>4.24</td>\n",
       "      <td>5</td>\n",
       "      <td>5152.955078</td>\n",
       "      <td>Dodoma</td>\n",
       "      <td>578538.383133</td>\n",
       "      <td>both</td>\n",
       "    </tr>\n",
       "    <tr>\n",
       "      <th>1</th>\n",
       "      <td>01010140020284</td>\n",
       "      <td>Rural</td>\n",
       "      <td>4.539407e+05</td>\n",
       "      <td>2.28</td>\n",
       "      <td>3</td>\n",
       "      <td>5048.136719</td>\n",
       "      <td>Dodoma</td>\n",
       "      <td>199096.806365</td>\n",
       "      <td>0101014002028401</td>\n",
       "      <td>01010140020284</td>\n",
       "      <td>Rural</td>\n",
       "      <td>1364008.375</td>\n",
       "      <td>2.76</td>\n",
       "      <td>4</td>\n",
       "      <td>5212.386719</td>\n",
       "      <td>Dodoma</td>\n",
       "      <td>494205.934679</td>\n",
       "      <td>both</td>\n",
       "    </tr>\n",
       "    <tr>\n",
       "      <th>2</th>\n",
       "      <td>01010140020297</td>\n",
       "      <td>Rural</td>\n",
       "      <td>7.136122e+06</td>\n",
       "      <td>7.96</td>\n",
       "      <td>10</td>\n",
       "      <td>5048.136719</td>\n",
       "      <td>Dodoma</td>\n",
       "      <td>896497.671583</td>\n",
       "      <td>0101014002029701</td>\n",
       "      <td>01010140020297</td>\n",
       "      <td>Rural</td>\n",
       "      <td>6136596.000</td>\n",
       "      <td>8.12</td>\n",
       "      <td>10</td>\n",
       "      <td>2564.016113</td>\n",
       "      <td>Dodoma</td>\n",
       "      <td>755738.420428</td>\n",
       "      <td>both</td>\n",
       "    </tr>\n",
       "    <tr>\n",
       "      <th>3</th>\n",
       "      <td>01010140020297</td>\n",
       "      <td>Rural</td>\n",
       "      <td>7.136122e+06</td>\n",
       "      <td>7.96</td>\n",
       "      <td>10</td>\n",
       "      <td>5048.136719</td>\n",
       "      <td>Dodoma</td>\n",
       "      <td>896497.671583</td>\n",
       "      <td>0101014002029704</td>\n",
       "      <td>01010140020297</td>\n",
       "      <td>Urban</td>\n",
       "      <td>3419913.000</td>\n",
       "      <td>6.36</td>\n",
       "      <td>8</td>\n",
       "      <td>3052.347412</td>\n",
       "      <td>Dar es Salaam</td>\n",
       "      <td>537722.171122</td>\n",
       "      <td>both</td>\n",
       "    </tr>\n",
       "    <tr>\n",
       "      <th>4</th>\n",
       "      <td>01010140020409</td>\n",
       "      <td>Rural</td>\n",
       "      <td>1.523027e+06</td>\n",
       "      <td>2.84</td>\n",
       "      <td>4</td>\n",
       "      <td>5048.136719</td>\n",
       "      <td>Dodoma</td>\n",
       "      <td>536277.156015</td>\n",
       "      <td>0101014002040901</td>\n",
       "      <td>01010140020409</td>\n",
       "      <td>Rural</td>\n",
       "      <td>1228936.250</td>\n",
       "      <td>4.16</td>\n",
       "      <td>6</td>\n",
       "      <td>5152.955078</td>\n",
       "      <td>Dodoma</td>\n",
       "      <td>295417.370159</td>\n",
       "      <td>both</td>\n",
       "    </tr>\n",
       "  </tbody>\n",
       "</table>\n",
       "</div>"
      ],
      "text/plain": [
       "          hhid_y1 urban_y1      expmR_y1  adulteq_y1  hhsize_y1  hhweight_y1  \\\n",
       "0  01010140020171    Rural  1.730037e+06        4.52          5  5048.136719   \n",
       "1  01010140020284    Rural  4.539407e+05        2.28          3  5048.136719   \n",
       "2  01010140020297    Rural  7.136122e+06        7.96         10  5048.136719   \n",
       "3  01010140020297    Rural  7.136122e+06        7.96         10  5048.136719   \n",
       "4  01010140020409    Rural  1.523027e+06        2.84          4  5048.136719   \n",
       "\n",
       "  region_y1        cons_y1        y2_hhid_y2    hhid_2008_y2 urban_y2  \\\n",
       "0    Dodoma  382751.572895  0101014002017101  01010140020171    Rural   \n",
       "1    Dodoma  199096.806365  0101014002028401  01010140020284    Rural   \n",
       "2    Dodoma  896497.671583  0101014002029701  01010140020297    Rural   \n",
       "3    Dodoma  896497.671583  0101014002029704  01010140020297    Urban   \n",
       "4    Dodoma  536277.156015  0101014002040901  01010140020409    Rural   \n",
       "\n",
       "      expmR_y2  adulteq_y2  hhsize_y2  hhweight_y2      region_y2  \\\n",
       "0  2453002.750        4.24          5  5152.955078         Dodoma   \n",
       "1  1364008.375        2.76          4  5212.386719         Dodoma   \n",
       "2  6136596.000        8.12         10  2564.016113         Dodoma   \n",
       "3  3419913.000        6.36          8  3052.347412  Dar es Salaam   \n",
       "4  1228936.250        4.16          6  5152.955078         Dodoma   \n",
       "\n",
       "         cons_y2 _merge  \n",
       "0  578538.383133   both  \n",
       "1  494205.934679   both  \n",
       "2  755738.420428   both  \n",
       "3  537722.171122   both  \n",
       "4  295417.370159   both  "
      ]
     },
     "metadata": {},
     "output_type": "display_data"
    },
    {
     "data": {
      "text/plain": [
       "(3846, 18)"
      ]
     },
     "metadata": {},
     "output_type": "display_data"
    }
   ],
   "source": [
    "tanz = pd.merge(tanz_y1, tanz_y2, how='inner',\n",
    "                         left_on = \"hhid_y1\", right_on = \"hhid_2008_y2\", indicator = True)\n",
    "\n",
    "display(tanz.head(5))\n",
    "display(tanz.shape)"
   ]
  },
  {
   "cell_type": "markdown",
   "metadata": {},
   "source": [
    "Then I'm going to drop values if the merge did not work on both sides. I can check if this matters or not later."
   ]
  },
  {
   "cell_type": "code",
   "execution_count": 19,
   "metadata": {},
   "outputs": [
    {
     "data": {
      "text/plain": [
       "(3846, 18)"
      ]
     },
     "metadata": {},
     "output_type": "display_data"
    }
   ],
   "source": [
    "display(tanz[tanz._merge == \"both\"].shape)"
   ]
  },
  {
   "cell_type": "markdown",
   "metadata": {},
   "source": [
    "Looks like nothing was dropped. Future investigations should look at how the sample size is changing across years and understand exactly what is going on."
   ]
  },
  {
   "cell_type": "markdown",
   "metadata": {},
   "source": [
    "#### Merge with Year 2 Geography Variables"
   ]
  },
  {
   "cell_type": "code",
   "execution_count": 22,
   "metadata": {},
   "outputs": [
    {
     "data": {
      "text/html": [
       "<div>\n",
       "<style scoped>\n",
       "    .dataframe tbody tr th:only-of-type {\n",
       "        vertical-align: middle;\n",
       "    }\n",
       "\n",
       "    .dataframe tbody tr th {\n",
       "        vertical-align: top;\n",
       "    }\n",
       "\n",
       "    .dataframe thead th {\n",
       "        text-align: right;\n",
       "    }\n",
       "</style>\n",
       "<table border=\"1\" class=\"dataframe\">\n",
       "  <thead>\n",
       "    <tr style=\"text-align: right;\">\n",
       "      <th></th>\n",
       "      <th>y2_hhid</th>\n",
       "      <th>lat_modified</th>\n",
       "      <th>lon_modified</th>\n",
       "      <th>hhid_y1</th>\n",
       "      <th>urban_y1</th>\n",
       "      <th>expmR_y1</th>\n",
       "      <th>adulteq_y1</th>\n",
       "      <th>hhsize_y1</th>\n",
       "      <th>hhweight_y1</th>\n",
       "      <th>region_y1</th>\n",
       "      <th>...</th>\n",
       "      <th>y2_hhid_y2</th>\n",
       "      <th>hhid_2008_y2</th>\n",
       "      <th>urban_y2</th>\n",
       "      <th>expmR_y2</th>\n",
       "      <th>adulteq_y2</th>\n",
       "      <th>hhsize_y2</th>\n",
       "      <th>hhweight_y2</th>\n",
       "      <th>region_y2</th>\n",
       "      <th>cons_y2</th>\n",
       "      <th>_merge</th>\n",
       "    </tr>\n",
       "  </thead>\n",
       "  <tbody>\n",
       "    <tr>\n",
       "      <th>0</th>\n",
       "      <td>0101014002017101</td>\n",
       "      <td>-5.08575</td>\n",
       "      <td>35.854389</td>\n",
       "      <td>01010140020171</td>\n",
       "      <td>Rural</td>\n",
       "      <td>1.730037e+06</td>\n",
       "      <td>4.52</td>\n",
       "      <td>5</td>\n",
       "      <td>5048.136719</td>\n",
       "      <td>Dodoma</td>\n",
       "      <td>...</td>\n",
       "      <td>0101014002017101</td>\n",
       "      <td>01010140020171</td>\n",
       "      <td>Rural</td>\n",
       "      <td>2453002.750</td>\n",
       "      <td>4.24</td>\n",
       "      <td>5</td>\n",
       "      <td>5152.955078</td>\n",
       "      <td>Dodoma</td>\n",
       "      <td>578538.383133</td>\n",
       "      <td>both</td>\n",
       "    </tr>\n",
       "    <tr>\n",
       "      <th>1</th>\n",
       "      <td>0101014002028401</td>\n",
       "      <td>-5.08575</td>\n",
       "      <td>35.854389</td>\n",
       "      <td>01010140020284</td>\n",
       "      <td>Rural</td>\n",
       "      <td>4.539407e+05</td>\n",
       "      <td>2.28</td>\n",
       "      <td>3</td>\n",
       "      <td>5048.136719</td>\n",
       "      <td>Dodoma</td>\n",
       "      <td>...</td>\n",
       "      <td>0101014002028401</td>\n",
       "      <td>01010140020284</td>\n",
       "      <td>Rural</td>\n",
       "      <td>1364008.375</td>\n",
       "      <td>2.76</td>\n",
       "      <td>4</td>\n",
       "      <td>5212.386719</td>\n",
       "      <td>Dodoma</td>\n",
       "      <td>494205.934679</td>\n",
       "      <td>both</td>\n",
       "    </tr>\n",
       "    <tr>\n",
       "      <th>2</th>\n",
       "      <td>0101014002029701</td>\n",
       "      <td>-5.08575</td>\n",
       "      <td>35.854389</td>\n",
       "      <td>01010140020297</td>\n",
       "      <td>Rural</td>\n",
       "      <td>7.136122e+06</td>\n",
       "      <td>7.96</td>\n",
       "      <td>10</td>\n",
       "      <td>5048.136719</td>\n",
       "      <td>Dodoma</td>\n",
       "      <td>...</td>\n",
       "      <td>0101014002029701</td>\n",
       "      <td>01010140020297</td>\n",
       "      <td>Rural</td>\n",
       "      <td>6136596.000</td>\n",
       "      <td>8.12</td>\n",
       "      <td>10</td>\n",
       "      <td>2564.016113</td>\n",
       "      <td>Dodoma</td>\n",
       "      <td>755738.420428</td>\n",
       "      <td>both</td>\n",
       "    </tr>\n",
       "    <tr>\n",
       "      <th>3</th>\n",
       "      <td>0101014002029704</td>\n",
       "      <td>-5.08575</td>\n",
       "      <td>35.854389</td>\n",
       "      <td>01010140020297</td>\n",
       "      <td>Rural</td>\n",
       "      <td>7.136122e+06</td>\n",
       "      <td>7.96</td>\n",
       "      <td>10</td>\n",
       "      <td>5048.136719</td>\n",
       "      <td>Dodoma</td>\n",
       "      <td>...</td>\n",
       "      <td>0101014002029704</td>\n",
       "      <td>01010140020297</td>\n",
       "      <td>Urban</td>\n",
       "      <td>3419913.000</td>\n",
       "      <td>6.36</td>\n",
       "      <td>8</td>\n",
       "      <td>3052.347412</td>\n",
       "      <td>Dar es Salaam</td>\n",
       "      <td>537722.171122</td>\n",
       "      <td>both</td>\n",
       "    </tr>\n",
       "    <tr>\n",
       "      <th>4</th>\n",
       "      <td>0101014002040901</td>\n",
       "      <td>-5.08575</td>\n",
       "      <td>35.854389</td>\n",
       "      <td>01010140020409</td>\n",
       "      <td>Rural</td>\n",
       "      <td>1.523027e+06</td>\n",
       "      <td>2.84</td>\n",
       "      <td>4</td>\n",
       "      <td>5048.136719</td>\n",
       "      <td>Dodoma</td>\n",
       "      <td>...</td>\n",
       "      <td>0101014002040901</td>\n",
       "      <td>01010140020409</td>\n",
       "      <td>Rural</td>\n",
       "      <td>1228936.250</td>\n",
       "      <td>4.16</td>\n",
       "      <td>6</td>\n",
       "      <td>5152.955078</td>\n",
       "      <td>Dodoma</td>\n",
       "      <td>295417.370159</td>\n",
       "      <td>both</td>\n",
       "    </tr>\n",
       "  </tbody>\n",
       "</table>\n",
       "<p>5 rows × 21 columns</p>\n",
       "</div>"
      ],
      "text/plain": [
       "            y2_hhid  lat_modified  lon_modified         hhid_y1 urban_y1  \\\n",
       "0  0101014002017101      -5.08575     35.854389  01010140020171    Rural   \n",
       "1  0101014002028401      -5.08575     35.854389  01010140020284    Rural   \n",
       "2  0101014002029701      -5.08575     35.854389  01010140020297    Rural   \n",
       "3  0101014002029704      -5.08575     35.854389  01010140020297    Rural   \n",
       "4  0101014002040901      -5.08575     35.854389  01010140020409    Rural   \n",
       "\n",
       "       expmR_y1  adulteq_y1  hhsize_y1  hhweight_y1 region_y1   ...    \\\n",
       "0  1.730037e+06        4.52          5  5048.136719    Dodoma   ...     \n",
       "1  4.539407e+05        2.28          3  5048.136719    Dodoma   ...     \n",
       "2  7.136122e+06        7.96         10  5048.136719    Dodoma   ...     \n",
       "3  7.136122e+06        7.96         10  5048.136719    Dodoma   ...     \n",
       "4  1.523027e+06        2.84          4  5048.136719    Dodoma   ...     \n",
       "\n",
       "         y2_hhid_y2    hhid_2008_y2 urban_y2     expmR_y2  adulteq_y2  \\\n",
       "0  0101014002017101  01010140020171    Rural  2453002.750        4.24   \n",
       "1  0101014002028401  01010140020284    Rural  1364008.375        2.76   \n",
       "2  0101014002029701  01010140020297    Rural  6136596.000        8.12   \n",
       "3  0101014002029704  01010140020297    Urban  3419913.000        6.36   \n",
       "4  0101014002040901  01010140020409    Rural  1228936.250        4.16   \n",
       "\n",
       "   hhsize_y2  hhweight_y2      region_y2        cons_y2  _merge  \n",
       "0          5  5152.955078         Dodoma  578538.383133    both  \n",
       "1          4  5212.386719         Dodoma  494205.934679    both  \n",
       "2         10  2564.016113         Dodoma  755738.420428    both  \n",
       "3          8  3052.347412  Dar es Salaam  537722.171122    both  \n",
       "4          6  5152.955078         Dodoma  295417.370159    both  \n",
       "\n",
       "[5 rows x 21 columns]"
      ]
     },
     "metadata": {},
     "output_type": "display_data"
    }
   ],
   "source": [
    "file = path_desktop + \"//HH.Geovariables_Y2.dta\"\n",
    "\n",
    "geo_var = pd.read_stata(file, columns = [\"y2_hhid\", \"lat_modified\", \"lon_modified\"])\n",
    "\n",
    "\n",
    "tanz = pd.merge(geo_var, tanz, how='inner',\n",
    "                         left_on = \"y2_hhid\", right_on = \"y2_hhid_y2\")\n",
    "\n",
    "display(tanz.head())"
   ]
  },
  {
   "cell_type": "markdown",
   "metadata": {},
   "source": [
    "## Aggregate, Cross-Sectional Analysis\n",
    "\n",
    "Below, I first describe some summary statistics of the data focusing on the cross-sectional dimension. That is only within one year."
   ]
  },
  {
   "cell_type": "markdown",
   "metadata": {},
   "source": [
    "#### Consumption Data\n",
    "\n",
    "I'm going to first look at the level of consumption in each year and then look at consumption growth across the years. So first, the level of consumption."
   ]
  },
  {
   "cell_type": "code",
   "execution_count": 63,
   "metadata": {},
   "outputs": [
    {
     "data": {
      "text/html": [
       "<div>\n",
       "<style scoped>\n",
       "    .dataframe tbody tr th:only-of-type {\n",
       "        vertical-align: middle;\n",
       "    }\n",
       "\n",
       "    .dataframe tbody tr th {\n",
       "        vertical-align: top;\n",
       "    }\n",
       "\n",
       "    .dataframe thead th {\n",
       "        text-align: right;\n",
       "    }\n",
       "</style>\n",
       "<table border=\"1\" class=\"dataframe\">\n",
       "  <thead>\n",
       "    <tr style=\"text-align: right;\">\n",
       "      <th></th>\n",
       "      <th>cons_y1</th>\n",
       "      <th>cons_y2</th>\n",
       "    </tr>\n",
       "  </thead>\n",
       "  <tbody>\n",
       "    <tr>\n",
       "      <th>count</th>\n",
       "      <td>3839.000000</td>\n",
       "      <td>3838.000000</td>\n",
       "    </tr>\n",
       "    <tr>\n",
       "      <th>mean</th>\n",
       "      <td>331.580256</td>\n",
       "      <td>390.151393</td>\n",
       "    </tr>\n",
       "    <tr>\n",
       "      <th>std</th>\n",
       "      <td>322.710943</td>\n",
       "      <td>354.803545</td>\n",
       "    </tr>\n",
       "    <tr>\n",
       "      <th>min</th>\n",
       "      <td>20.761887</td>\n",
       "      <td>32.411519</td>\n",
       "    </tr>\n",
       "    <tr>\n",
       "      <th>25%</th>\n",
       "      <td>151.305534</td>\n",
       "      <td>181.533352</td>\n",
       "    </tr>\n",
       "    <tr>\n",
       "      <th>50%</th>\n",
       "      <td>231.436136</td>\n",
       "      <td>280.455998</td>\n",
       "    </tr>\n",
       "    <tr>\n",
       "      <th>75%</th>\n",
       "      <td>385.517895</td>\n",
       "      <td>465.369968</td>\n",
       "    </tr>\n",
       "    <tr>\n",
       "      <th>max</th>\n",
       "      <td>6772.997294</td>\n",
       "      <td>3631.400641</td>\n",
       "    </tr>\n",
       "  </tbody>\n",
       "</table>\n",
       "</div>"
      ],
      "text/plain": [
       "           cons_y1      cons_y2\n",
       "count  3839.000000  3838.000000\n",
       "mean    331.580256   390.151393\n",
       "std     322.710943   354.803545\n",
       "min      20.761887    32.411519\n",
       "25%     151.305534   181.533352\n",
       "50%     231.436136   280.455998\n",
       "75%     385.517895   465.369968\n",
       "max    6772.997294  3631.400641"
      ]
     },
     "metadata": {},
     "output_type": "display_data"
    }
   ],
   "source": [
    "convert_to_dollars = 0.0004455530 # For December 2008 (seems stable)\n",
    "\n",
    "y1sum = (tanz.cons_y1*convert_to_dollars).describe()\n",
    "\n",
    "y2sum = (tanz.cons_y2*convert_to_dollars).describe() # Each of these are a series\n",
    "\n",
    "sum_data = pd.concat([y1sum, y2sum], axis = 1) # Then use the concat method to create a dataframe\n",
    "                                               # Which will give a nice visualization of the table\n",
    "display(sum_data)"
   ]
  },
  {
   "cell_type": "markdown",
   "metadata": {},
   "source": [
    "A couple of things to note:\n",
    "- So about 4000 households. Note how it looks like there are two less in year 2. Might want to investigate this at some point.\n",
    "- On average, mean consumption increased. We will discuss this below. \n",
    "- Very poor. Average level of consumption is between 300 and 400 USD. Need to verify the time frame it covers, but no matter what this is poor, e.g. I spend that much on coffee and beer in a month probably. \n",
    "- Also, it looks like the dispersion is similar across the two years. Might want to do this is logs to verify. Latter we will visually inspect this.\n",
    "\n",
    "Following up on a point made above: How much consumption growth was there? There are several different ways to get at this. What I will do is compute consumption growth at the household level, then report summary statistics for them. "
   ]
  },
  {
   "cell_type": "code",
   "execution_count": 64,
   "metadata": {
    "scrolled": true
   },
   "outputs": [
    {
     "data": {
      "text/html": [
       "<div>\n",
       "<style scoped>\n",
       "    .dataframe tbody tr th:only-of-type {\n",
       "        vertical-align: middle;\n",
       "    }\n",
       "\n",
       "    .dataframe tbody tr th {\n",
       "        vertical-align: top;\n",
       "    }\n",
       "\n",
       "    .dataframe thead th {\n",
       "        text-align: right;\n",
       "    }\n",
       "</style>\n",
       "<table border=\"1\" class=\"dataframe\">\n",
       "  <thead>\n",
       "    <tr style=\"text-align: right;\">\n",
       "      <th></th>\n",
       "      <th>cons_growth</th>\n",
       "    </tr>\n",
       "  </thead>\n",
       "  <tbody>\n",
       "    <tr>\n",
       "      <th>count</th>\n",
       "      <td>3838.000000</td>\n",
       "    </tr>\n",
       "    <tr>\n",
       "      <th>mean</th>\n",
       "      <td>17.142055</td>\n",
       "    </tr>\n",
       "    <tr>\n",
       "      <th>std</th>\n",
       "      <td>61.781567</td>\n",
       "    </tr>\n",
       "    <tr>\n",
       "      <th>min</th>\n",
       "      <td>-256.092485</td>\n",
       "    </tr>\n",
       "    <tr>\n",
       "      <th>25%</th>\n",
       "      <td>-21.449128</td>\n",
       "    </tr>\n",
       "    <tr>\n",
       "      <th>50%</th>\n",
       "      <td>16.335116</td>\n",
       "    </tr>\n",
       "    <tr>\n",
       "      <th>75%</th>\n",
       "      <td>54.500076</td>\n",
       "    </tr>\n",
       "    <tr>\n",
       "      <th>max</th>\n",
       "      <td>281.055002</td>\n",
       "    </tr>\n",
       "  </tbody>\n",
       "</table>\n",
       "</div>"
      ],
      "text/plain": [
       "       cons_growth\n",
       "count  3838.000000\n",
       "mean     17.142055\n",
       "std      61.781567\n",
       "min    -256.092485\n",
       "25%     -21.449128\n",
       "50%      16.335116\n",
       "75%      54.500076\n",
       "max     281.055002"
      ]
     },
     "metadata": {},
     "output_type": "display_data"
    }
   ],
   "source": [
    "tanz[\"cons_growth\"] = 100*(np.log(tanz.cons_y2) - np.log(tanz.cons_y1))\n",
    "\n",
    "display(pd.DataFrame(tanz.cons_growth.describe()))"
   ]
  },
  {
   "cell_type": "markdown",
   "metadata": {},
   "source": [
    "Key observation: **Average consumption growth was 17 percent over four years**. A quick google search suggests this is not inconsistent with national growth rates of GDP.  Also note the dispersion: Some households experienced large disasters. For example, a household in the 25th percentile experienced a **-21** percent drop in consumption. "
   ]
  },
  {
   "cell_type": "markdown",
   "metadata": {},
   "source": [
    "#### Rural Urban Status\n",
    "\n",
    "Now lets examine the fraction of the households by rural or urban status. The first step to do this is I want to be able to perform a numerical calculation on the catagorical status of Rural or Urban. To do so, I need to use the `np.where` operation to compute it:"
   ]
  },
  {
   "cell_type": "code",
   "execution_count": 65,
   "metadata": {
    "collapsed": true,
    "scrolled": true
   },
   "outputs": [],
   "source": [
    "tanz[\"num_urban_y1\"] = np.where(tanz[\"urban_y1\"] == \"Rural\", 1, 0) # Creates a numerical catagorication of one or zero base on \n",
    "                                                                   # rural or ubran status\n",
    "tanz[\"num_urban_y2\"] = np.where(tanz[\"urban_y2\"] == \"Rural\", 1, 0) # for year two"
   ]
  },
  {
   "cell_type": "markdown",
   "metadata": {},
   "source": [
    "Then lets report some descriptive statistics."
   ]
  },
  {
   "cell_type": "code",
   "execution_count": 66,
   "metadata": {
    "scrolled": true
   },
   "outputs": [
    {
     "data": {
      "text/html": [
       "<div>\n",
       "<style scoped>\n",
       "    .dataframe tbody tr th:only-of-type {\n",
       "        vertical-align: middle;\n",
       "    }\n",
       "\n",
       "    .dataframe tbody tr th {\n",
       "        vertical-align: top;\n",
       "    }\n",
       "\n",
       "    .dataframe thead th {\n",
       "        text-align: right;\n",
       "    }\n",
       "</style>\n",
       "<table border=\"1\" class=\"dataframe\">\n",
       "  <thead>\n",
       "    <tr style=\"text-align: right;\">\n",
       "      <th></th>\n",
       "      <th>num_urban_y1</th>\n",
       "      <th>num_urban_y2</th>\n",
       "    </tr>\n",
       "  </thead>\n",
       "  <tbody>\n",
       "    <tr>\n",
       "      <th>count</th>\n",
       "      <td>3839.000000</td>\n",
       "      <td>3839.00000</td>\n",
       "    </tr>\n",
       "    <tr>\n",
       "      <th>mean</th>\n",
       "      <td>0.643918</td>\n",
       "      <td>0.67231</td>\n",
       "    </tr>\n",
       "  </tbody>\n",
       "</table>\n",
       "</div>"
      ],
      "text/plain": [
       "       num_urban_y1  num_urban_y2\n",
       "count   3839.000000    3839.00000\n",
       "mean       0.643918       0.67231"
      ]
     },
     "metadata": {},
     "output_type": "display_data"
    }
   ],
   "source": [
    "y1sum = tanz.num_urban_y1.describe()\n",
    "y2sum = tanz.num_urban_y2.describe()\n",
    "\n",
    "sum_data = pd.concat([y1sum, y2sum], axis = 1) # Then use the concat method to create a dataframe\n",
    "                                               # Which will give a nice visualization of the table\n",
    "\n",
    "display(sum_data.loc[[\"count\",\"mean\"]]) #Only show the count and the mean"
   ]
  },
  {
   "cell_type": "markdown",
   "metadata": {},
   "source": [
    "Key observation: **In year one and year two about 60+ percent of the housholds live in rural areas.** Note that it appears that the fraction of rural housholds actually increased in year two. The one issue with this is that these are simple means and not using the sampling weights that are provided. Should update in the future."
   ]
  },
  {
   "cell_type": "markdown",
   "metadata": {},
   "source": [
    "#### Rural Urban Gaps in Living Standards\n",
    "\n",
    "The final point is to report differences in living standard between rural and urban areas. "
   ]
  },
  {
   "cell_type": "code",
   "execution_count": 62,
   "metadata": {},
   "outputs": [
    {
     "data": {
      "text/html": [
       "<div>\n",
       "<style scoped>\n",
       "    .dataframe tbody tr th:only-of-type {\n",
       "        vertical-align: middle;\n",
       "    }\n",
       "\n",
       "    .dataframe tbody tr th {\n",
       "        vertical-align: top;\n",
       "    }\n",
       "\n",
       "    .dataframe thead th {\n",
       "        text-align: right;\n",
       "    }\n",
       "</style>\n",
       "<table border=\"1\" class=\"dataframe\">\n",
       "  <thead>\n",
       "    <tr style=\"text-align: right;\">\n",
       "      <th></th>\n",
       "      <th>Mean</th>\n",
       "      <th>Median</th>\n",
       "      <th>Year</th>\n",
       "    </tr>\n",
       "  </thead>\n",
       "  <tbody>\n",
       "    <tr>\n",
       "      <th>0</th>\n",
       "      <td>1.784</td>\n",
       "      <td>1.668</td>\n",
       "      <td>2008</td>\n",
       "    </tr>\n",
       "    <tr>\n",
       "      <th>1</th>\n",
       "      <td>1.666</td>\n",
       "      <td>1.580</td>\n",
       "      <td>2012</td>\n",
       "    </tr>\n",
       "  </tbody>\n",
       "</table>\n",
       "</div>"
      ],
      "text/plain": [
       "    Mean  Median  Year\n",
       "0  1.784   1.668  2008\n",
       "1  1.666   1.580  2012"
      ]
     },
     "metadata": {},
     "output_type": "display_data"
    }
   ],
   "source": [
    "cons_gap_mean = (tanz[(tanz[\"urban_y1\"]== \"Urban\") & ( tanz[\"urban_y1\"]== \"Urban\")].cons_y1.mean()/\n",
    "                 tanz[(tanz[\"urban_y1\"]== \"Rural\") & ( tanz[\"urban_y1\"]== \"Rural\")].cons_y2.mean())  \n",
    "\n",
    "cons_gap_median = (tanz[(tanz[\"urban_y1\"]== \"Urban\") & ( tanz[\"urban_y1\"]== \"Urban\")].cons_y1.median()/\n",
    "                 tanz[(tanz[\"urban_y1\"]== \"Rural\") & ( tanz[\"urban_y1\"]== \"Rural\")].cons_y2.median())\n",
    "\n",
    "cons_gap_mean_y2 = (tanz[(tanz[\"urban_y2\"]== \"Urban\") & ( tanz[\"urban_y2\"]== \"Urban\")].cons_y1.mean()/\n",
    "                 tanz[(tanz[\"urban_y2\"]== \"Rural\") & ( tanz[\"urban_y2\"]== \"Rural\")].cons_y2.mean())  \n",
    "\n",
    "cons_gap_median_y2 = (tanz[(tanz[\"urban_y2\"]== \"Urban\") & ( tanz[\"urban_y2\"]== \"Urban\")].cons_y1.median()/\n",
    "                 tanz[(tanz[\"urban_y2\"]== \"Rural\") & ( tanz[\"urban_y2\"]== \"Rural\")].cons_y2.median())\n",
    "\n",
    "\n",
    "sum_gaps = {\"Year\": [\"2008\", \"2012\"],\n",
    "            \"Mean\" : [round(cons_gap_mean,3), round(cons_gap_mean_y2,3)],\n",
    "            \"Median\" : [round(cons_gap_median,3), round(cons_gap_median_y2,3)],}\n",
    "\n",
    "sum_gaps = pd.DataFrame(sum_gaps)\n",
    "\n",
    "display(sum_gaps)"
   ]
  },
  {
   "cell_type": "markdown",
   "metadata": {},
   "source": [
    "Here what we see is that: rural areas earn substantially less than urban areas. In 2008, this was around 70 percent, shrinking slightly in 2012. \n",
    "\n",
    "This observation is consistent with prior research that finds large gaps. Moreover, note that this gap (from an accounting perspective) matters as most of the Tanzanian population is Rural. Thus, from a mechanical perspective...why is Tanzania really poor? Well most of their population is rural."
   ]
  },
  {
   "cell_type": "markdown",
   "metadata": {},
   "source": [
    "## Geographic Dimensions of Rural-Urban Inequality\n",
    "\n",
    "Lets look at a couple of dimeionsons of rural-urban inequality. One is across the regions in Tanzania. Another is across unique geo-codes. In the analysis below, I'm going to focus on year 2 for several reasons. One is that Zanzibar appears to be miscoded with respect to urban-rural status. Second, Geocodes are all for year 2. So we will go with that.\n",
    "\n",
    "### Rural-Urban Inequality By Region \n",
    "\n",
    "The idea her is to plot average consumption by region relative to their rural-urban share. Thus, this is exploiting the variation in different regions urbanization and exploring how their relative living standards all matches up. \n",
    "\n",
    "The first step to performing this analysis is to `groupby` on the region variable and then construct the appropriate variables."
   ]
  },
  {
   "cell_type": "code",
   "execution_count": 133,
   "metadata": {
    "collapsed": true,
    "scrolled": true
   },
   "outputs": [],
   "source": [
    "year = \"_y2\"\n",
    "\n",
    "grouped = tanz.groupby((\"region\" + year)) # Groupby region and year\n",
    "\n",
    "avg_reg_cons = grouped[\"expmR\" + year].sum() / grouped[\"adulteq\"+ year].sum() # Average consumption \n",
    "\n",
    "avg_reg_cons = avg_reg_cons/avg_reg_cons.mean() # Normalize it relative to the aggregate mean\n",
    "\n",
    "frac_rural = grouped[\"num_urban\" + year].mean() # regional rural urbanization\n",
    "\n",
    "frac_urban = 1-frac_rural\n",
    "\n",
    "size = 0.50*grouped[\"hhweight\"+ year].mean() # How important different regions are"
   ]
  },
  {
   "cell_type": "markdown",
   "metadata": {},
   "source": [
    "Then I'm going to regress consumption on the urban share of each region. The reason I'm doing this is so I can generate a best fit line plot on top of our scatter plot. After the discussion of the graph, I'll discuss the results as well."
   ]
  },
  {
   "cell_type": "code",
   "execution_count": 134,
   "metadata": {
    "collapsed": true
   },
   "outputs": [],
   "source": [
    "data = pd.concat([avg_reg_cons, frac_urban], axis = 1) # Create a dataframe\n",
    "\n",
    "data.columns = [\"avg_reg_cons\", \"frac_urban\"] # rename the columns so this makesense\n",
    "\n",
    "results = smf.ols('''avg_reg_cons ~ frac_urban''', \n",
    "                  data= data).fit()  # Then use stats models to estimate the linear relationship"
   ]
  },
  {
   "cell_type": "code",
   "execution_count": 171,
   "metadata": {},
   "outputs": [
    {
     "data": {
      "image/png": "[encoded data removed]",
      "text/plain": [
       "<matplotlib.figure.Figure at 0x238629f0b8>"
      ]
     },
     "metadata": {},
     "output_type": "display_data"
    }
   ],
   "source": [
    "fig, ax = plt.subplots(figsize = (12,8))\n",
    "\n",
    "ax.scatter(data.avg_reg_cons, data.frac_urban, s = size, alpha = 0.50)\n",
    "\n",
    "ax.set_title(\"Houshold Consumption and Urban Share\\n\", fontsize = 15)\n",
    "ax.set_ylabel(\"Urban Share of Region\", fontsize = 13) \n",
    "ax.set_xlabel(\"Average Household Consumption (Relative to Mean)\", fontsize = 13)\n",
    "\n",
    "##### Now plot the best fit line\n",
    "\n",
    "pred = results.predict(exog = data[\"frac_urban\"].sort_values())\n",
    "\n",
    "ax.plot(pred, data[\"frac_urban\"].sort_values(),\n",
    "        color = 'r', linewidth = 2.0, linestyle = \"dashed\", label = \"Best Fit Line\")\n",
    "\n",
    "##### Make it look nice\n",
    "\n",
    "ax.spines[\"right\"].set_visible(False)\n",
    "ax.spines[\"top\"].set_visible(False)\n",
    "\n",
    "plt.show()"
   ]
  },
  {
   "cell_type": "markdown",
   "metadata": {},
   "source": [
    "The figure shows a very clear, systematic relationship between consumption and the Urban Share of a region. If we look closely, the outlier in the upper-right hand corner is Dar Es Salam, i.e. the major urban center of Tanzania. \n",
    "\n",
    "What to make of this? Urbanization seems to matter a lot. A way to get a more formal sense of this is to look at the statistics from the regression:"
   ]
  },
  {
   "cell_type": "code",
   "execution_count": 174,
   "metadata": {},
   "outputs": [
    {
     "data": {
      "text/html": [
       "<table class=\"simpletable\">\n",
       "<caption>OLS Regression Results</caption>\n",
       "<tr>\n",
       "  <th>Dep. Variable:</th>      <td>avg_reg_cons</td>   <th>  R-squared:         </th> <td>   0.678</td>\n",
       "</tr>\n",
       "<tr>\n",
       "  <th>Model:</th>                   <td>OLS</td>       <th>  Adj. R-squared:    </th> <td>   0.665</td>\n",
       "</tr>\n",
       "<tr>\n",
       "  <th>Method:</th>             <td>Least Squares</td>  <th>  F-statistic:       </th> <td>   50.57</td>\n",
       "</tr>\n",
       "<tr>\n",
       "  <th>Date:</th>             <td>Wed, 13 Dec 2017</td> <th>  Prob (F-statistic):</th> <td>2.37e-07</td>\n",
       "</tr>\n",
       "<tr>\n",
       "  <th>Time:</th>                 <td>13:58:43</td>     <th>  Log-Likelihood:    </th> <td>  9.5959</td>\n",
       "</tr>\n",
       "<tr>\n",
       "  <th>No. Observations:</th>      <td>    26</td>      <th>  AIC:               </th> <td>  -15.19</td>\n",
       "</tr>\n",
       "<tr>\n",
       "  <th>Df Residuals:</th>          <td>    24</td>      <th>  BIC:               </th> <td>  -12.68</td>\n",
       "</tr>\n",
       "<tr>\n",
       "  <th>Df Model:</th>              <td>     1</td>      <th>                     </th>     <td> </td>   \n",
       "</tr>\n",
       "<tr>\n",
       "  <th>Covariance Type:</th>      <td>nonrobust</td>    <th>                     </th>     <td> </td>   \n",
       "</tr>\n",
       "</table>\n",
       "<table class=\"simpletable\">\n",
       "<tr>\n",
       "       <td></td>         <th>coef</th>     <th>std err</th>      <th>t</th>      <th>P>|t|</th>  <th>[0.025</th>    <th>0.975]</th>  \n",
       "</tr>\n",
       "<tr>\n",
       "  <th>Intercept</th>  <td>    0.6050</td> <td>    0.065</td> <td>    9.279</td> <td> 0.000</td> <td>    0.470</td> <td>    0.740</td>\n",
       "</tr>\n",
       "<tr>\n",
       "  <th>frac_urban</th> <td>    1.5887</td> <td>    0.223</td> <td>    7.111</td> <td> 0.000</td> <td>    1.128</td> <td>    2.050</td>\n",
       "</tr>\n",
       "</table>\n",
       "<table class=\"simpletable\">\n",
       "<tr>\n",
       "  <th>Omnibus:</th>       <td> 2.220</td> <th>  Durbin-Watson:     </th> <td>   1.879</td>\n",
       "</tr>\n",
       "<tr>\n",
       "  <th>Prob(Omnibus):</th> <td> 0.330</td> <th>  Jarque-Bera (JB):  </th> <td>   1.165</td>\n",
       "</tr>\n",
       "<tr>\n",
       "  <th>Skew:</th>          <td>-0.499</td> <th>  Prob(JB):          </th> <td>   0.559</td>\n",
       "</tr>\n",
       "<tr>\n",
       "  <th>Kurtosis:</th>      <td> 3.281</td> <th>  Cond. No.          </th> <td>    6.96</td>\n",
       "</tr>\n",
       "</table>"
      ],
      "text/plain": [
       "<class 'statsmodels.iolib.summary.Summary'>\n",
       "\"\"\"\n",
       "                            OLS Regression Results                            \n",
       "==============================================================================\n",
       "Dep. Variable:           avg_reg_cons   R-squared:                       0.678\n",
       "Model:                            OLS   Adj. R-squared:                  0.665\n",
       "Method:                 Least Squares   F-statistic:                     50.57\n",
       "Date:                Wed, 13 Dec 2017   Prob (F-statistic):           2.37e-07\n",
       "Time:                        13:58:43   Log-Likelihood:                 9.5959\n",
       "No. Observations:                  26   AIC:                            -15.19\n",
       "Df Residuals:                      24   BIC:                            -12.68\n",
       "Df Model:                           1                                         \n",
       "Covariance Type:            nonrobust                                         \n",
       "==============================================================================\n",
       "                 coef    std err          t      P>|t|      [0.025      0.975]\n",
       "------------------------------------------------------------------------------\n",
       "Intercept      0.6050      0.065      9.279      0.000       0.470       0.740\n",
       "frac_urban     1.5887      0.223      7.111      0.000       1.128       2.050\n",
       "==============================================================================\n",
       "Omnibus:                        2.220   Durbin-Watson:                   1.879\n",
       "Prob(Omnibus):                  0.330   Jarque-Bera (JB):                1.165\n",
       "Skew:                          -0.499   Prob(JB):                        0.559\n",
       "Kurtosis:                       3.281   Cond. No.                         6.96\n",
       "==============================================================================\n",
       "\n",
       "Warnings:\n",
       "[1] Standard Errors assume that the covariance matrix of the errors is correctly specified.\n",
       "\"\"\""
      ]
     },
     "metadata": {},
     "output_type": "display_data"
    }
   ],
   "source": [
    "display(results.summary())"
   ]
  },
  {
   "cell_type": "markdown",
   "metadata": {},
   "source": [
    "Where we see that the **Urban share explains almost 70 percent of the variation in consumption.** And this is all within Tanzania variation. One interesting question to follow up on would be to look at the cross-country evidence: For example, how much variation in cross-country income inequality is explained by the urban share. And is the slope, similar to the within country evidence?"
   ]
  },
  {
   "cell_type": "markdown",
   "metadata": {},
   "source": [
    "### Rural-Urban Inequality by Household Location\n",
    "\n",
    "This section esentially delves deeper into the region component by looking at the specific location of the household (which we have) and their level of consumption. Again, to execute this, I will `groupby` on the latitude and longitude of their reported location and then map their status as rural or urban, and map the associated level of consumption.\n",
    "\n",
    "Step one: Groupby the location."
   ]
  },
  {
   "cell_type": "code",
   "execution_count": 225,
   "metadata": {},
   "outputs": [
    {
     "data": {
      "text/html": [
       "<div>\n",
       "<style scoped>\n",
       "    .dataframe tbody tr th:only-of-type {\n",
       "        vertical-align: middle;\n",
       "    }\n",
       "\n",
       "    .dataframe tbody tr th {\n",
       "        vertical-align: top;\n",
       "    }\n",
       "\n",
       "    .dataframe thead th {\n",
       "        text-align: right;\n",
       "    }\n",
       "</style>\n",
       "<table border=\"1\" class=\"dataframe\">\n",
       "  <thead>\n",
       "    <tr style=\"text-align: right;\">\n",
       "      <th></th>\n",
       "      <th>lat_modified</th>\n",
       "      <th>lon_modified</th>\n",
       "      <th>rural_y2</th>\n",
       "      <th>cons_y2</th>\n",
       "      <th>y2_hhid_y2</th>\n",
       "    </tr>\n",
       "  </thead>\n",
       "  <tbody>\n",
       "    <tr>\n",
       "      <th>0</th>\n",
       "      <td>-11.49701</td>\n",
       "      <td>35.607632</td>\n",
       "      <td>0.000000</td>\n",
       "      <td>397344.551492</td>\n",
       "      <td>9</td>\n",
       "    </tr>\n",
       "    <tr>\n",
       "      <th>1</th>\n",
       "      <td>-11.31545</td>\n",
       "      <td>34.786301</td>\n",
       "      <td>0.666667</td>\n",
       "      <td>766766.233372</td>\n",
       "      <td>9</td>\n",
       "    </tr>\n",
       "    <tr>\n",
       "      <th>2</th>\n",
       "      <td>-11.17032</td>\n",
       "      <td>34.996471</td>\n",
       "      <td>0.000000</td>\n",
       "      <td>443776.292471</td>\n",
       "      <td>10</td>\n",
       "    </tr>\n",
       "    <tr>\n",
       "      <th>3</th>\n",
       "      <td>-11.10879</td>\n",
       "      <td>34.642170</td>\n",
       "      <td>1.000000</td>\n",
       "      <td>530443.634563</td>\n",
       "      <td>10</td>\n",
       "    </tr>\n",
       "    <tr>\n",
       "      <th>4</th>\n",
       "      <td>-11.07245</td>\n",
       "      <td>37.319248</td>\n",
       "      <td>1.000000</td>\n",
       "      <td>499437.266714</td>\n",
       "      <td>10</td>\n",
       "    </tr>\n",
       "  </tbody>\n",
       "</table>\n",
       "</div>"
      ],
      "text/plain": [
       "   lat_modified  lon_modified  rural_y2        cons_y2  y2_hhid_y2\n",
       "0     -11.49701     35.607632  0.000000  397344.551492           9\n",
       "1     -11.31545     34.786301  0.666667  766766.233372           9\n",
       "2     -11.17032     34.996471  0.000000  443776.292471          10\n",
       "3     -11.10879     34.642170  1.000000  530443.634563          10\n",
       "4     -11.07245     37.319248  1.000000  499437.266714          10"
      ]
     },
     "metadata": {},
     "output_type": "display_data"
    }
   ],
   "source": [
    "tanz[\"rural_y2\"] = 1-tanz[\"num_urban_y2\"]\n",
    "\n",
    "geo_group = tanz.groupby([\"lat_modified\",\"lon_modified\"])\n",
    "\n",
    "cnt = geo_group.agg({\"cons_y2\": \"mean\", \"y2_hhid_y2\": \"count\", \"rural_y2\": \"mean\"})\n",
    "\n",
    "cnt.reset_index(inplace = True) # The issue is that the index is the group, lets reset it\n",
    "                                # so I can get access to it.\n",
    "    \n",
    "display(cnt.head(5))"
   ]
  },
  {
   "cell_type": "markdown",
   "metadata": {},
   "source": [
    "Then here are some city locations from Tanzania. I found these on google by asking \"latitude and longitude of X in Tanzania\" where X is a city that I was aware of."
   ]
  },
  {
   "cell_type": "code",
   "execution_count": 226,
   "metadata": {
    "collapsed": true
   },
   "outputs": [],
   "source": [
    "citylon = [39.20 , 40.1760, 35.7516, 32.9175, 36.6830]\n",
    "\n",
    "citylat = [-6.79 , -10.3112, -6.1630, -2.5164,  -3.3869]\n",
    "\n",
    "citylabels = [\"Dar Es Salam\", \"Mtwara\", \"Dodoma\", \"Mwanza\", \"Arusha\"]\n",
    "\n",
    "# Some locations to put on this..."
   ]
  },
  {
   "cell_type": "markdown",
   "metadata": {},
   "source": [
    "Then below is the mapping routine. A lot is going on, but the essential idea is (i) construct the map (ii) plot the housholds on the map and (iii) make it look nice. "
   ]
  },
  {
   "cell_type": "code",
   "execution_count": 252,
   "metadata": {
    "scrolled": false
   },
   "outputs": [
    {
     "data": {
      "image/png": "[encoded data removed]",
      "text/plain": [
       "<matplotlib.figure.Figure at 0x2385fbc080>"
      ]
     },
     "metadata": {},
     "output_type": "display_data"
    }
   ],
   "source": [
    "###########################################################################################\n",
    "\n",
    "fig, ax = plt.subplots(1, 2, figsize = (15,15))\n",
    "\n",
    "###########################################################################################\n",
    "\n",
    "my_map = Basemap(projection='merc', # This is a simple one...some options require more input\n",
    "                 resolution = 'l', area_thresh = 100.0, # Change ARC Thres, some islands don't show up.\n",
    "                 llcrnrlon=28, llcrnrlat=-12, # This says \"lower left hand cornoer lon, lower left hand corner lat\n",
    "                 urcrnrlon=42, urcrnrlat=-0, ax = ax[0])  # This says upper right hand corner lon, upper right corner lat\n",
    "                                              # Then it will draw a box given these specifications.\n",
    "\n",
    "my_map.drawcoastlines()\n",
    "\n",
    "my_map.drawcountries(linewidth=1.5) # Make the country lines bolder\n",
    "\n",
    "my_map.fillcontinents(color='grey',alpha = 0.25,lake_color='aqua') # Fill in the lakes\n",
    "\n",
    "x,y = my_map(cnt.lon_modified.tolist(), cnt.lat_modified.tolist())    \n",
    "\n",
    "my_map.scatter(x,y, latlon = False, c = cnt.rural_y2.tolist(), cmap = plt.cm.Blues,\n",
    "               s = 50, alpha = 0.99,  edgecolor='tab:gray')\n",
    "    \n",
    "###########################################################################################\n",
    "# Add Labels\n",
    "\n",
    "x,y = my_map(citylon, citylat) \n",
    "\n",
    "for label, xpt, ypt in zip(citylabels, x, y):\n",
    "    \n",
    "    ax[0].text(xpt+15000, ypt+15000, label,  weight = \"bold\",fontsize=12)\n",
    "\n",
    "ax[0].set_title(\"Tanzania:\\n Rural or Urban Status by Household Location\\n\")    \n",
    "    \n",
    "ax[0].spines[\"right\"].set_visible(False)\n",
    "ax[0].spines[\"top\"].set_visible(False)\n",
    "ax[0].spines[\"left\"].set_visible(False)\n",
    "ax[0].spines[\"bottom\"].set_visible(False)    \n",
    "\n",
    "###########################################################################################\n",
    "###########################################################################################\n",
    "# Lets put consumption next to it\n",
    "\n",
    "my_map = Basemap(projection='merc', # This is a simple one...some options require more input\n",
    "                 resolution = 'l', area_thresh = 100.0, # Change ARC Thres, some islands don't show up.\n",
    "                 llcrnrlon=28, llcrnrlat=-12, # This says \"lower left hand cornoer lon, lower left hand corner lat\n",
    "                 urcrnrlon=42, urcrnrlat=-0,ax = ax[1])  # This says upper right hand corner lon, upper right corner lat\n",
    "                                              # Then it will draw a box given these specifications.\n",
    "\n",
    "my_map.drawcoastlines()\n",
    "\n",
    "my_map.drawcountries(linewidth=1.5) # Make the country lines bolder\n",
    "\n",
    "my_map.fillcontinents(color='grey',alpha = 0.25,lake_color='aqua') # Fill in the lakes\n",
    "\n",
    "x,y = my_map(cnt.lon_modified.tolist(),cnt.lat_modified.tolist()) \n",
    "\n",
    "my_map.scatter(x,y, latlon = False, c = np.log(cnt.cons_y2.tolist()),\n",
    "               cmap = plt.cm.Blues, s = 50, alpha = 0.99,  edgecolor='tab:gray')\n",
    "\n",
    "###########################################################################################\n",
    "# Add Labels\n",
    "\n",
    "x,y = my_map(citylon, citylat) \n",
    "\n",
    "for label, xpt, ypt in zip(citylabels, x, y):\n",
    "    \n",
    "    ax[1].text(xpt+15000, ypt+15000, label, weight = \"bold\", fontsize=12)\n",
    "\n",
    "ax[1].set_title(\"Tanzania:\\n Consumption by Household Location\\n\")\n",
    "\n",
    "ax[1].spines[\"right\"].set_visible(False)\n",
    "ax[1].spines[\"top\"].set_visible(False)\n",
    "ax[1].spines[\"left\"].set_visible(False)\n",
    "ax[1].spines[\"bottom\"].set_visible(False)\n",
    "\n",
    "###########################################################################################\n",
    "plt.show()"
   ]
  },
  {
   "cell_type": "markdown",
   "metadata": {},
   "source": [
    "Let me explain this graph. So each dot is a (group) of households. On the left panel is there location, with lighter locations being rural, darker being urban (most are just one or zero, but there is some mix). Here you see that around Dar Es Salam, or Arusha, there are urban households.  On the right panel there is the consumption per adult equivalent at the household. Darker areas have higher levels of consumption.\n",
    "\n",
    "The takeaway sit the urban areas in space, have higher levels of consumption. This is consistent with the aggregate facts above, the across region variation discussed in the plot above. And now here is a mapping illustrating the same point. "
   ]
  },
  {
   "cell_type": "markdown",
   "metadata": {},
   "source": [
    "### Tracking Households Across Time\n",
    "\n",
    "Explore how income changes over time with rural urban status. Some tables and simple regression. Add in eduction."
   ]
  },
  {
   "cell_type": "markdown",
   "metadata": {
    "collapsed": true
   },
   "source": [
    "## Summary\n",
    "\n",
    "Summarize what I find"
   ]
  }
 ],
 "metadata": {
  "anaconda-cloud": {},
  "kernelspec": {
   "display_name": "Python 3",
   "language": "python",
   "name": "python3"
  },
  "language_info": {
   "codemirror_mode": {
    "name": "ipython",
    "version": 3
   },
   "file_extension": ".py",
   "mimetype": "text/x-python",
   "name": "python",
   "nbconvert_exporter": "python",
   "pygments_lexer": "ipython3",
   "version": "3.6.1"
  }
 },
 "nbformat": 4,
 "nbformat_minor": 2
}
